{
 "cells": [
  {
   "cell_type": "code",
   "execution_count": 1,
   "metadata": {},
   "outputs": [],
   "source": [
    "from apiclient.discovery import build\n",
    "import json\n",
    "import pandas as pd"
   ]
  },
  {
   "cell_type": "code",
   "execution_count": 2,
   "metadata": {},
   "outputs": [],
   "source": [
    "with open('secret.json') as f:\n",
    "    secret = json.load(f)"
   ]
  },
  {
   "cell_type": "code",
   "execution_count": 3,
   "metadata": {},
   "outputs": [],
   "source": [
    "DEVELOPER_KEY = secret['KEY']\n",
    "YOUTUBE_API_SERVICE_NAME = \"youtube\"\n",
    "YOUTUBE_API_VERSION = \"v3\"\n",
    "\n",
    "youtube = build(YOUTUBE_API_SERVICE_NAME, YOUTUBE_API_VERSION,\n",
    "                developerKey=DEVELOPER_KEY)"
   ]
  },
  {
   "cell_type": "code",
   "execution_count": 60,
   "metadata": {},
   "outputs": [],
   "source": [
    "q = 'aespa 에스파 Savage MV'\n",
    "max_results = 1000\n",
    "\n",
    "response = youtube.search().list(\n",
    "    q=q,\n",
    "#     channelTitle='SMTOWN',\n",
    "    part='id,snippet',\n",
    "    order='viewCount',\n",
    "    type='title',\n",
    "    maxResults=max_results\n",
    ").execute()"
   ]
  },
  {
   "cell_type": "code",
   "execution_count": 61,
   "metadata": {},
   "outputs": [
    {
     "data": {
      "text/plain": [
       "{'kind': 'youtube#searchResult',\n",
       " 'etag': 's0qdXGqBfiqMrx34ARTyAc4mg8w',\n",
       " 'id': {'kind': 'youtube#video', 'videoId': '4TWR90KJl84'},\n",
       " 'snippet': {'publishedAt': '2021-05-17T09:00:02Z',\n",
       "  'channelId': 'UCEf_Bc-KVd7onSeifS3py9g',\n",
       "  'title': 'aespa 에스파 &#39;Next Level&#39; MV',\n",
       "  'description': 'aespa\\'s new single \"Next Level\" is out! Listen and download on your favorite platform: https://smarturl.it/aespa_NextLevel ...',\n",
       "  'thumbnails': {'default': {'url': 'https://i.ytimg.com/vi/4TWR90KJl84/default.jpg',\n",
       "    'width': 120,\n",
       "    'height': 90},\n",
       "   'medium': {'url': 'https://i.ytimg.com/vi/4TWR90KJl84/mqdefault.jpg',\n",
       "    'width': 320,\n",
       "    'height': 180},\n",
       "   'high': {'url': 'https://i.ytimg.com/vi/4TWR90KJl84/hqdefault.jpg',\n",
       "    'width': 480,\n",
       "    'height': 360}},\n",
       "  'channelTitle': 'SMTOWN',\n",
       "  'liveBroadcastContent': 'none',\n",
       "  'publishTime': '2021-05-17T09:00:02Z'}}"
      ]
     },
     "execution_count": 61,
     "metadata": {},
     "output_type": "execute_result"
    }
   ],
   "source": [
    "items = response['items']\n",
    "item = items[0]\n",
    "item"
   ]
  },
  {
   "cell_type": "code",
   "execution_count": 29,
   "metadata": {},
   "outputs": [],
   "source": [
    "channels = []\n",
    "for item in items:\n",
    "    if item['id']['kind'] == \"youtube#channel\":\n",
    "        channel = {}\n",
    "        channel['channel_title'] = item['snippet']['title']\n",
    "        channel['channel_id'] = item['id']['channelId']\n",
    "        channels.append(channel)\n",
    "\n",
    "df_channel = pd.DataFrame(channels)"
   ]
  },
  {
   "cell_type": "code",
   "execution_count": 30,
   "metadata": {},
   "outputs": [
    {
     "data": {
      "text/html": [
       "<div>\n",
       "<style scoped>\n",
       "    .dataframe tbody tr th:only-of-type {\n",
       "        vertical-align: middle;\n",
       "    }\n",
       "\n",
       "    .dataframe tbody tr th {\n",
       "        vertical-align: top;\n",
       "    }\n",
       "\n",
       "    .dataframe thead th {\n",
       "        text-align: right;\n",
       "    }\n",
       "</style>\n",
       "<table border=\"1\" class=\"dataframe\">\n",
       "  <thead>\n",
       "    <tr style=\"text-align: right;\">\n",
       "      <th></th>\n",
       "      <th>channel_title</th>\n",
       "      <th>channel_id</th>\n",
       "    </tr>\n",
       "  </thead>\n",
       "  <tbody>\n",
       "    <tr>\n",
       "      <th>0</th>\n",
       "      <td>ENHYPEN</td>\n",
       "      <td>UCArLZtok93cO5R9RI4_Y5Jw</td>\n",
       "    </tr>\n",
       "  </tbody>\n",
       "</table>\n",
       "</div>"
      ],
      "text/plain": [
       "  channel_title                channel_id\n",
       "0       ENHYPEN  UCArLZtok93cO5R9RI4_Y5Jw"
      ]
     },
     "execution_count": 30,
     "metadata": {},
     "output_type": "execute_result"
    }
   ],
   "source": [
    "df_channel[:3]"
   ]
  },
  {
   "cell_type": "code",
   "execution_count": 35,
   "metadata": {},
   "outputs": [],
   "source": [
    "channels = [\n",
    "    {\n",
    "        'channel_title': 'HYBE LABELS',\n",
    "        'channel_id': 'UC3IZKseVpdzPSBaWxBxundA'\n",
    "    },\n",
    "    {\n",
    "        'channel_title': 'SMTOWN',\n",
    "        'channel_id': 'UCEf_Bc-KVd7onSeifS3py9g'\n",
    "    }\n",
    "]"
   ]
  },
  {
   "cell_type": "code",
   "execution_count": 36,
   "metadata": {},
   "outputs": [
    {
     "data": {
      "text/plain": [
       "[{'channel_title': 'ENHYPEN', 'channel_id': 'UCArLZtok93cO5R9RI4_Y5Jw'},\n",
       " {'channel_title': 'aespa', 'channel_id': 'UC9GtSLeksfK4yuJ_g1lgQbg'}]"
      ]
     },
     "execution_count": 36,
     "metadata": {},
     "output_type": "execute_result"
    }
   ],
   "source": [
    "channels"
   ]
  },
  {
   "cell_type": "code",
   "execution_count": 119,
   "metadata": {},
   "outputs": [],
   "source": [
    "def video_search(youtube, channel_id='UC3IZKseVpdzPSBaWxBxundA', q='MV', max_results=50):\n",
    "    response = youtube.search().list(\n",
    "        channelId=channel_id,\n",
    "        q=q,\n",
    "        part='id,snippet',\n",
    "        order='relevance',\n",
    "        type='Video',\n",
    "        maxResults=max_results\n",
    "    ).execute()\n",
    "\n",
    "    items = response['items']\n",
    "    items_id = []\n",
    "    for item in items:\n",
    "        item_id = {}\n",
    "        item_id['video_id'] = item['id']['videoId']\n",
    "        item_id['channel_id'] = item['snippet']['channelId']\n",
    "        items_id.append(item_id)\n",
    "\n",
    "    df_video = pd.DataFrame(items_id)\n",
    "    \n",
    "    return df_video"
   ]
  },
  {
   "cell_type": "code",
   "execution_count": 133,
   "metadata": {},
   "outputs": [],
   "source": [
    "df_video = video_search(youtube, channel_id='UC3IZKseVpdzPSBaWxBxundA', q='ENYPHEN MV', max_results=1000)"
   ]
  },
  {
   "cell_type": "code",
   "execution_count": 134,
   "metadata": {},
   "outputs": [
    {
     "data": {
      "text/html": [
       "<div>\n",
       "<style scoped>\n",
       "    .dataframe tbody tr th:only-of-type {\n",
       "        vertical-align: middle;\n",
       "    }\n",
       "\n",
       "    .dataframe tbody tr th {\n",
       "        vertical-align: top;\n",
       "    }\n",
       "\n",
       "    .dataframe thead th {\n",
       "        text-align: right;\n",
       "    }\n",
       "</style>\n",
       "<table border=\"1\" class=\"dataframe\">\n",
       "  <thead>\n",
       "    <tr style=\"text-align: right;\">\n",
       "      <th></th>\n",
       "      <th>video_id</th>\n",
       "      <th>channel_id</th>\n",
       "    </tr>\n",
       "  </thead>\n",
       "  <tbody>\n",
       "    <tr>\n",
       "      <th>0</th>\n",
       "      <td>osmHArcf_aE</td>\n",
       "      <td>UC3IZKseVpdzPSBaWxBxundA</td>\n",
       "    </tr>\n",
       "    <tr>\n",
       "      <th>1</th>\n",
       "      <td>X7d6Dt17yHk</td>\n",
       "      <td>UC3IZKseVpdzPSBaWxBxundA</td>\n",
       "    </tr>\n",
       "    <tr>\n",
       "      <th>2</th>\n",
       "      <td>Fc7-Oe0tj5k</td>\n",
       "      <td>UC3IZKseVpdzPSBaWxBxundA</td>\n",
       "    </tr>\n",
       "    <tr>\n",
       "      <th>3</th>\n",
       "      <td>6IRsW_TkyVA</td>\n",
       "      <td>UC3IZKseVpdzPSBaWxBxundA</td>\n",
       "    </tr>\n",
       "    <tr>\n",
       "      <th>4</th>\n",
       "      <td>nQ6wLuYvGd4</td>\n",
       "      <td>UC3IZKseVpdzPSBaWxBxundA</td>\n",
       "    </tr>\n",
       "    <tr>\n",
       "      <th>5</th>\n",
       "      <td>FKG48r9Wl8o</td>\n",
       "      <td>UC3IZKseVpdzPSBaWxBxundA</td>\n",
       "    </tr>\n",
       "    <tr>\n",
       "      <th>6</th>\n",
       "      <td>yMNLjj09fU0</td>\n",
       "      <td>UC3IZKseVpdzPSBaWxBxundA</td>\n",
       "    </tr>\n",
       "    <tr>\n",
       "      <th>7</th>\n",
       "      <td>0qKNPsStO-w</td>\n",
       "      <td>UC3IZKseVpdzPSBaWxBxundA</td>\n",
       "    </tr>\n",
       "    <tr>\n",
       "      <th>8</th>\n",
       "      <td>YsSJBNQJVT0</td>\n",
       "      <td>UC3IZKseVpdzPSBaWxBxundA</td>\n",
       "    </tr>\n",
       "    <tr>\n",
       "      <th>9</th>\n",
       "      <td>WQMFIExw8Yc</td>\n",
       "      <td>UC3IZKseVpdzPSBaWxBxundA</td>\n",
       "    </tr>\n",
       "    <tr>\n",
       "      <th>10</th>\n",
       "      <td>2u8ExBR-RbQ</td>\n",
       "      <td>UC3IZKseVpdzPSBaWxBxundA</td>\n",
       "    </tr>\n",
       "    <tr>\n",
       "      <th>11</th>\n",
       "      <td>RuGE7rhuT14</td>\n",
       "      <td>UC3IZKseVpdzPSBaWxBxundA</td>\n",
       "    </tr>\n",
       "    <tr>\n",
       "      <th>12</th>\n",
       "      <td>OE8h-ZkvIJ0</td>\n",
       "      <td>UC3IZKseVpdzPSBaWxBxundA</td>\n",
       "    </tr>\n",
       "    <tr>\n",
       "      <th>13</th>\n",
       "      <td>00MBzKHRs2Q</td>\n",
       "      <td>UC3IZKseVpdzPSBaWxBxundA</td>\n",
       "    </tr>\n",
       "    <tr>\n",
       "      <th>14</th>\n",
       "      <td>i1_x7AwUGYE</td>\n",
       "      <td>UC3IZKseVpdzPSBaWxBxundA</td>\n",
       "    </tr>\n",
       "    <tr>\n",
       "      <th>15</th>\n",
       "      <td>Dv63qTjFuOo</td>\n",
       "      <td>UC3IZKseVpdzPSBaWxBxundA</td>\n",
       "    </tr>\n",
       "    <tr>\n",
       "      <th>16</th>\n",
       "      <td>WpuatuzSDK4</td>\n",
       "      <td>UC3IZKseVpdzPSBaWxBxundA</td>\n",
       "    </tr>\n",
       "    <tr>\n",
       "      <th>17</th>\n",
       "      <td>T534Rv7R7M4</td>\n",
       "      <td>UC3IZKseVpdzPSBaWxBxundA</td>\n",
       "    </tr>\n",
       "    <tr>\n",
       "      <th>18</th>\n",
       "      <td>tw3DuI6CAgY</td>\n",
       "      <td>UC3IZKseVpdzPSBaWxBxundA</td>\n",
       "    </tr>\n",
       "    <tr>\n",
       "      <th>19</th>\n",
       "      <td>UzsOOckr6z8</td>\n",
       "      <td>UC3IZKseVpdzPSBaWxBxundA</td>\n",
       "    </tr>\n",
       "    <tr>\n",
       "      <th>20</th>\n",
       "      <td>lnrUJr8B7oI</td>\n",
       "      <td>UC3IZKseVpdzPSBaWxBxundA</td>\n",
       "    </tr>\n",
       "    <tr>\n",
       "      <th>21</th>\n",
       "      <td>3-OuEDkHiCk</td>\n",
       "      <td>UC3IZKseVpdzPSBaWxBxundA</td>\n",
       "    </tr>\n",
       "    <tr>\n",
       "      <th>22</th>\n",
       "      <td>7zLBTCgdLvc</td>\n",
       "      <td>UC3IZKseVpdzPSBaWxBxundA</td>\n",
       "    </tr>\n",
       "    <tr>\n",
       "      <th>23</th>\n",
       "      <td>Ccckt-TTzXY</td>\n",
       "      <td>UC3IZKseVpdzPSBaWxBxundA</td>\n",
       "    </tr>\n",
       "    <tr>\n",
       "      <th>24</th>\n",
       "      <td>FI-VaA40ua4</td>\n",
       "      <td>UC3IZKseVpdzPSBaWxBxundA</td>\n",
       "    </tr>\n",
       "    <tr>\n",
       "      <th>25</th>\n",
       "      <td>g4y6-l194Kg</td>\n",
       "      <td>UC3IZKseVpdzPSBaWxBxundA</td>\n",
       "    </tr>\n",
       "    <tr>\n",
       "      <th>26</th>\n",
       "      <td>YIdPBP9HqCw</td>\n",
       "      <td>UC3IZKseVpdzPSBaWxBxundA</td>\n",
       "    </tr>\n",
       "  </tbody>\n",
       "</table>\n",
       "</div>"
      ],
      "text/plain": [
       "       video_id                channel_id\n",
       "0   osmHArcf_aE  UC3IZKseVpdzPSBaWxBxundA\n",
       "1   X7d6Dt17yHk  UC3IZKseVpdzPSBaWxBxundA\n",
       "2   Fc7-Oe0tj5k  UC3IZKseVpdzPSBaWxBxundA\n",
       "3   6IRsW_TkyVA  UC3IZKseVpdzPSBaWxBxundA\n",
       "4   nQ6wLuYvGd4  UC3IZKseVpdzPSBaWxBxundA\n",
       "5   FKG48r9Wl8o  UC3IZKseVpdzPSBaWxBxundA\n",
       "6   yMNLjj09fU0  UC3IZKseVpdzPSBaWxBxundA\n",
       "7   0qKNPsStO-w  UC3IZKseVpdzPSBaWxBxundA\n",
       "8   YsSJBNQJVT0  UC3IZKseVpdzPSBaWxBxundA\n",
       "9   WQMFIExw8Yc  UC3IZKseVpdzPSBaWxBxundA\n",
       "10  2u8ExBR-RbQ  UC3IZKseVpdzPSBaWxBxundA\n",
       "11  RuGE7rhuT14  UC3IZKseVpdzPSBaWxBxundA\n",
       "12  OE8h-ZkvIJ0  UC3IZKseVpdzPSBaWxBxundA\n",
       "13  00MBzKHRs2Q  UC3IZKseVpdzPSBaWxBxundA\n",
       "14  i1_x7AwUGYE  UC3IZKseVpdzPSBaWxBxundA\n",
       "15  Dv63qTjFuOo  UC3IZKseVpdzPSBaWxBxundA\n",
       "16  WpuatuzSDK4  UC3IZKseVpdzPSBaWxBxundA\n",
       "17  T534Rv7R7M4  UC3IZKseVpdzPSBaWxBxundA\n",
       "18  tw3DuI6CAgY  UC3IZKseVpdzPSBaWxBxundA\n",
       "19  UzsOOckr6z8  UC3IZKseVpdzPSBaWxBxundA\n",
       "20  lnrUJr8B7oI  UC3IZKseVpdzPSBaWxBxundA\n",
       "21  3-OuEDkHiCk  UC3IZKseVpdzPSBaWxBxundA\n",
       "22  7zLBTCgdLvc  UC3IZKseVpdzPSBaWxBxundA\n",
       "23  Ccckt-TTzXY  UC3IZKseVpdzPSBaWxBxundA\n",
       "24  FI-VaA40ua4  UC3IZKseVpdzPSBaWxBxundA\n",
       "25  g4y6-l194Kg  UC3IZKseVpdzPSBaWxBxundA\n",
       "26  YIdPBP9HqCw  UC3IZKseVpdzPSBaWxBxundA"
      ]
     },
     "execution_count": 134,
     "metadata": {},
     "output_type": "execute_result"
    }
   ],
   "source": [
    "df_video"
   ]
  },
  {
   "cell_type": "code",
   "execution_count": 135,
   "metadata": {},
   "outputs": [],
   "source": [
    "video_ids = df_video['video_id'].tolist()"
   ]
  },
  {
   "cell_type": "code",
   "execution_count": 136,
   "metadata": {},
   "outputs": [
    {
     "data": {
      "text/plain": [
       "['osmHArcf_aE',\n",
       " 'X7d6Dt17yHk',\n",
       " 'Fc7-Oe0tj5k',\n",
       " '6IRsW_TkyVA',\n",
       " 'nQ6wLuYvGd4',\n",
       " 'FKG48r9Wl8o',\n",
       " 'yMNLjj09fU0',\n",
       " '0qKNPsStO-w',\n",
       " 'YsSJBNQJVT0',\n",
       " 'WQMFIExw8Yc',\n",
       " '2u8ExBR-RbQ',\n",
       " 'RuGE7rhuT14',\n",
       " 'OE8h-ZkvIJ0',\n",
       " '00MBzKHRs2Q',\n",
       " 'i1_x7AwUGYE',\n",
       " 'Dv63qTjFuOo',\n",
       " 'WpuatuzSDK4',\n",
       " 'T534Rv7R7M4',\n",
       " 'tw3DuI6CAgY',\n",
       " 'UzsOOckr6z8',\n",
       " 'lnrUJr8B7oI',\n",
       " '3-OuEDkHiCk',\n",
       " '7zLBTCgdLvc',\n",
       " 'Ccckt-TTzXY',\n",
       " 'FI-VaA40ua4',\n",
       " 'g4y6-l194Kg',\n",
       " 'YIdPBP9HqCw']"
      ]
     },
     "execution_count": 136,
     "metadata": {},
     "output_type": "execute_result"
    }
   ],
   "source": [
    "video_ids"
   ]
  },
  {
   "cell_type": "code",
   "execution_count": 142,
   "metadata": {},
   "outputs": [],
   "source": [
    "videos_list = youtube.videos().list(\n",
    "    id =','.join(video_ids),\n",
    "    part='snippet,statistics',\n",
    "    fields='items(id,snippet(title),statistics(viewCount),snippet(publishedAt))'\n",
    ").execute()"
   ]
  },
  {
   "cell_type": "code",
   "execution_count": 143,
   "metadata": {},
   "outputs": [
    {
     "data": {
      "text/plain": [
       "[{'id': 'osmHArcf_aE',\n",
       "  'snippet': {'publishedAt': '2022-01-10T08:55:12Z',\n",
       "   'title': \"ENHYPEN (엔하이픈) 'Blessed-Cursed' Official MV\"},\n",
       "  'statistics': {'viewCount': '32865152'}},\n",
       " {'id': 'X7d6Dt17yHk',\n",
       "  'snippet': {'publishedAt': '2021-05-19T15:00:00Z',\n",
       "   'title': \"ENHYPEN (엔하이픈) 'FEVER' Official MV\"},\n",
       "  'statistics': {'viewCount': '72257055'}},\n",
       " {'id': 'Fc7-Oe0tj5k',\n",
       "  'snippet': {'publishedAt': '2021-04-26T08:59:16Z',\n",
       "   'title': \"ENHYPEN (엔하이픈) 'Drunk-Dazed' Official MV\"},\n",
       "  'statistics': {'viewCount': '74567915'}},\n",
       " {'id': '6IRsW_TkyVA',\n",
       "  'snippet': {'publishedAt': '2021-10-12T08:56:11Z',\n",
       "   'title': \"ENHYPEN (엔하이픈) 'Tamed-Dashed' Official MV\"},\n",
       "  'statistics': {'viewCount': '34468509'}},\n",
       " {'id': 'nQ6wLuYvGd4',\n",
       "  'snippet': {'publishedAt': '2020-11-30T09:00:09Z',\n",
       "   'title': \"ENHYPEN (엔하이픈) 'Given-Taken' Official MV\"},\n",
       "  'statistics': {'viewCount': '61573276'}},\n",
       " {'id': 'FKG48r9Wl8o',\n",
       "  'snippet': {'publishedAt': '2020-12-20T15:00:01Z',\n",
       "   'title': \"ENHYPEN (엔하이픈) 'Let Me In (20 CUBE)' Official MV\"},\n",
       "  'statistics': {'viewCount': '38738994'}},\n",
       " {'id': 'yMNLjj09fU0',\n",
       "  'snippet': {'publishedAt': '2021-05-02T15:00:02Z',\n",
       "   'title': \"ENHYPEN (엔하이픈) 'Drunk-Dazed' Official MV (Choreography ver.)\"},\n",
       "  'statistics': {'viewCount': '9718392'}},\n",
       " {'id': '0qKNPsStO-w',\n",
       "  'snippet': {'publishedAt': '2020-12-07T15:05:01Z',\n",
       "   'title': \"ENHYPEN (엔하이픈) 'Given-Taken' Official MV (Choreography ver.)\"},\n",
       "  'statistics': {'viewCount': '7630296'}},\n",
       " {'id': 'YsSJBNQJVT0',\n",
       "  'snippet': {'publishedAt': '2021-10-17T15:00:02Z',\n",
       "   'title': \"ENHYPEN (엔하이픈) 'Tamed-Dashed' Official MV (Seaside ver.)\"},\n",
       "  'statistics': {'viewCount': '2064212'}},\n",
       " {'id': 'WQMFIExw8Yc',\n",
       "  'snippet': {'publishedAt': '2021-12-18T05:00:01Z',\n",
       "   'title': \"[TXT & EN- Choreography] 'Legend of K-POP' 2021 KBS 가요대축제 Dance Practice\"},\n",
       "  'statistics': {'viewCount': '7427876'}},\n",
       " {'id': '2u8ExBR-RbQ',\n",
       "  'snippet': {'publishedAt': '2020-01-14T15:00:02Z',\n",
       "   'title': \"TOMORROW X TOGETHER '9と4分の3番線で君を待つ (Run Away) [Japanese Ver.]' Official MV\"},\n",
       "  'statistics': {'viewCount': '20244418'}},\n",
       " {'id': 'RuGE7rhuT14',\n",
       "  'snippet': {'publishedAt': '2021-01-19T15:00:02Z',\n",
       "   'title': \"TXT (투모로우바이투게더) '5時53分の空で見つけた君と僕 [Japanese Ver.]' Official MV\"},\n",
       "  'statistics': {'viewCount': '7280076'}},\n",
       " {'id': 'OE8h-ZkvIJ0',\n",
       "  'snippet': {'publishedAt': '2022-02-15T08:58:12Z',\n",
       "   'title': '[TXT & EN-] BACKSTAGE: TXT x EN- DOCUMENTARY'},\n",
       "  'statistics': {'viewCount': '3262051'}},\n",
       " {'id': '00MBzKHRs2Q',\n",
       "  'snippet': {'publishedAt': '2021-02-14T06:59:59Z',\n",
       "   'title': '[TXT & EN- PLAYGROUND] Episode 1 (+ENG/JPN)'},\n",
       "  'statistics': {'viewCount': '7215682'}},\n",
       " {'id': 'i1_x7AwUGYE',\n",
       "  'snippet': {'publishedAt': '2020-10-21T15:00:01Z',\n",
       "   'title': 'ENHYPEN (엔하이픈) Debut Trailer 1 : Choose-Chosen'},\n",
       "  'statistics': {'viewCount': '5428752'}},\n",
       " {'id': 'Dv63qTjFuOo',\n",
       "  'snippet': {'publishedAt': '2021-05-16T15:00:03Z',\n",
       "   'title': \"ENHYPEN (엔하이픈) 'FEVER' Official Teaser 1\"},\n",
       "  'statistics': {'viewCount': '2335705'}},\n",
       " {'id': 'WpuatuzSDK4',\n",
       "  'snippet': {'publishedAt': '2021-10-22T03:58:09Z',\n",
       "   'title': \"SEVENTEEN (세븐틴) 'Rock with you' Official MV\"},\n",
       "  'statistics': {'viewCount': '62923999'}},\n",
       " {'id': 'T534Rv7R7M4',\n",
       "  'snippet': {'publishedAt': '2021-05-17T15:00:01Z',\n",
       "   'title': \"ENHYPEN (엔하이픈) 'FEVER' Official Teaser 2\"},\n",
       "  'statistics': {'viewCount': '2978792'}},\n",
       " {'id': 'tw3DuI6CAgY',\n",
       "  'snippet': {'publishedAt': '2021-02-14T07:00:01Z',\n",
       "   'title': '[TXT & EN- PLAYGROUND] Episode 2 (+ENG/JPN)'},\n",
       "  'statistics': {'viewCount': '5728065'}},\n",
       " {'id': 'UzsOOckr6z8',\n",
       "  'snippet': {'publishedAt': '2021-01-04T11:35:03Z',\n",
       "   'title': \"[2021NYEL] 'Solo Performance + Given-Taken' - ENHYPEN (엔하이픈)\"},\n",
       "  'statistics': {'viewCount': '2500485'}},\n",
       " {'id': 'lnrUJr8B7oI',\n",
       "  'snippet': {'publishedAt': '2020-10-24T15:00:01Z',\n",
       "   'title': 'ENHYPEN (엔하이픈) Debut Trailer 2 : Dusk-Dawn'},\n",
       "  'statistics': {'viewCount': '4848540'}},\n",
       " {'id': '3-OuEDkHiCk',\n",
       "  'snippet': {'publishedAt': '2021-04-04T15:00:01Z',\n",
       "   'title': \"ENHYPEN (엔하이픈) BORDER : CARNIVAL 'Intro : The Invitation'\"},\n",
       "  'statistics': {'viewCount': '2683616'}},\n",
       " {'id': '7zLBTCgdLvc',\n",
       "  'snippet': {'publishedAt': '2020-11-24T15:00:01Z',\n",
       "   'title': \"ENHYPEN (엔하이픈) 'Given-Taken' Official Teaser 1\"},\n",
       "  'statistics': {'viewCount': '3375977'}},\n",
       " {'id': 'Ccckt-TTzXY',\n",
       "  'snippet': {'publishedAt': '2021-05-30T14:30:00Z',\n",
       "   'title': \"ENHYPEN (엔하이픈) BORDER : CARNIVAL 'Outro : The Wormhole'\"},\n",
       "  'statistics': {'viewCount': '1275342'}},\n",
       " {'id': 'FI-VaA40ua4',\n",
       "  'snippet': {'publishedAt': '2020-11-15T15:00:01Z',\n",
       "   'title': \"ENHYPEN (엔하이픈) BORDER : DAY ONE 'Intro : Walk the Line'\"},\n",
       "  'statistics': {'viewCount': '3390515'}},\n",
       " {'id': 'g4y6-l194Kg',\n",
       "  'snippet': {'publishedAt': '2020-05-08T09:00:01Z',\n",
       "   'title': \"[BELIFT PROJECT] THIS IS THE 'I-LAND'\"},\n",
       "  'statistics': {'viewCount': '1803274'}},\n",
       " {'id': 'YIdPBP9HqCw',\n",
       "  'snippet': {'publishedAt': '2020-06-05T13:00:10Z',\n",
       "   'title': '[Big Hitㅣ2020 GLOBAL AUDITION] - #BTS (English & Japanese version)'},\n",
       "  'statistics': {'viewCount': '3617297'}}]"
      ]
     },
     "execution_count": 143,
     "metadata": {},
     "output_type": "execute_result"
    }
   ],
   "source": [
    "videos_list['items']"
   ]
  },
  {
   "cell_type": "code",
   "execution_count": 149,
   "metadata": {},
   "outputs": [],
   "source": [
    "items = videos_list['items']"
   ]
  },
  {
   "cell_type": "code",
   "execution_count": 156,
   "metadata": {},
   "outputs": [
    {
     "data": {
      "text/plain": [
       "\"ENHYPEN (엔하이픈) 'Blessed-Cursed' Official MV\""
      ]
     },
     "execution_count": 156,
     "metadata": {},
     "output_type": "execute_result"
    }
   ],
   "source": [
    "item = items[0]\n",
    "item['snippet']['title']"
   ]
  },
  {
   "cell_type": "code",
   "execution_count": null,
   "metadata": {},
   "outputs": [],
   "source": [
    "enhypen_video_list = []\n",
    "for item in items:\n",
    "    if 'MV' in item['snippet']['title'] and 'ENHYPEN' in item['snippet']['title']:\n",
    "        enhypen_video_list.append(item)\n",
    "\n",
    "enhypen_video_list"
   ]
  },
  {
   "cell_type": "code",
   "execution_count": null,
   "metadata": {},
   "outputs": [],
   "source": [
    "import sqlite3\n",
    "\n",
    "dbname = 'comeba.db'\n",
    "conn = sqlite3.connect(dbname)\n",
    "cur = conn.cursor()\n",
    "\n",
    "cur.execute(\n",
    "    'CREATE TABLE videos(id INTEGER PRIMARY KEY AUTOINCREMENT,\n",
    "     id STRING)')\n",
    "\n",
    "conn.commit()\n",
    "conn.close()\n"
   ]
  },
  {
   "cell_type": "code",
   "execution_count": null,
   "metadata": {},
   "outputs": [],
   "source": []
  }
 ],
 "metadata": {
  "kernelspec": {
   "display_name": "Python 3",
   "language": "python",
   "name": "python3"
  },
  "language_info": {
   "codemirror_mode": {
    "name": "ipython",
    "version": 3
   },
   "file_extension": ".py",
   "mimetype": "text/x-python",
   "name": "python",
   "nbconvert_exporter": "python",
   "pygments_lexer": "ipython3",
   "version": "3.8.5"
  }
 },
 "nbformat": 4,
 "nbformat_minor": 4
}
