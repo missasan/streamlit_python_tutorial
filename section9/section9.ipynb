{
 "cells": [
  {
   "cell_type": "code",
   "execution_count": 1,
   "metadata": {
    "collapsed": true,
    "jupyter": {
     "outputs_hidden": true
    }
   },
   "outputs": [
    {
     "name": "stdout",
     "output_type": "stream",
     "text": [
      "Requirement already satisfied: beautifulsoup4 in /Users/missasan/opt/anaconda3/lib/python3.8/site-packages (4.9.3)\n",
      "Requirement already satisfied: soupsieve>1.2; python_version >= \"3.0\" in /Users/missasan/opt/anaconda3/lib/python3.8/site-packages (from beautifulsoup4) (2.0.1)\n"
     ]
    }
   ],
   "source": [
    "!pip3 install beautifulsoup4"
   ]
  },
  {
   "cell_type": "code",
   "execution_count": 1,
   "metadata": {},
   "outputs": [],
   "source": [
    "from bs4 import BeautifulSoup\n",
    "import requests"
   ]
  },
  {
   "cell_type": "code",
   "execution_count": 2,
   "metadata": {},
   "outputs": [],
   "source": [
    "url = \"https://scraping-for-beginner.herokuapp.com/udemy\""
   ]
  },
  {
   "cell_type": "code",
   "execution_count": 3,
   "metadata": {},
   "outputs": [],
   "source": [
    "res = requests.get(url)"
   ]
  },
  {
   "cell_type": "code",
   "execution_count": 4,
   "metadata": {},
   "outputs": [],
   "source": [
    "soup = BeautifulSoup(res.text, 'html.parser')"
   ]
  },
  {
   "cell_type": "code",
   "execution_count": 5,
   "metadata": {},
   "outputs": [
    {
     "data": {
      "text/plain": [
       "'受講生の数：16086'"
      ]
     },
     "execution_count": 5,
     "metadata": {},
     "output_type": "execute_result"
    }
   ],
   "source": [
    "n_subscriber = soup.find('p', {'class': 'subscribers'}).text\n",
    "n_subscriber"
   ]
  },
  {
   "cell_type": "code",
   "execution_count": 7,
   "metadata": {},
   "outputs": [],
   "source": [
    "n_subscriber = int(n_subscriber.split('：')[1])"
   ]
  },
  {
   "cell_type": "code",
   "execution_count": 8,
   "metadata": {},
   "outputs": [
    {
     "data": {
      "text/plain": [
       "16086"
      ]
     },
     "execution_count": 8,
     "metadata": {},
     "output_type": "execute_result"
    }
   ],
   "source": [
    "n_subscriber"
   ]
  },
  {
   "cell_type": "code",
   "execution_count": 9,
   "metadata": {},
   "outputs": [
    {
     "data": {
      "text/plain": [
       "2768"
      ]
     },
     "execution_count": 9,
     "metadata": {},
     "output_type": "execute_result"
    }
   ],
   "source": [
    "n_review = soup.find('p', {'class': 'reviews'}).text\n",
    "n_review = int(n_review.split('：')[1])\n",
    "n_review"
   ]
  },
  {
   "cell_type": "code",
   "execution_count": 10,
   "metadata": {},
   "outputs": [],
   "source": [
    "url_ec = \"https://scraping.official.ec\""
   ]
  },
  {
   "cell_type": "code",
   "execution_count": 15,
   "metadata": {},
   "outputs": [],
   "source": [
    "res = requests.get(url_ec)"
   ]
  },
  {
   "cell_type": "code",
   "execution_count": 16,
   "metadata": {},
   "outputs": [],
   "source": [
    "soup = BeautifulSoup(res.text, 'html.parser')"
   ]
  },
  {
   "cell_type": "code",
   "execution_count": 22,
   "metadata": {
    "collapsed": true,
    "jupyter": {
     "outputs_hidden": true
    }
   },
   "outputs": [
    {
     "data": {
      "text/plain": [
       "<ul class=\"items-grid_itemList_5a0255a1\" data-app-item-label=\"\" data-columns-pc=\"4\" data-columns-sp=\"2\" data-currency=\"JPY\" data-current=\"1\" data-endpoint=\"https://scraping.official.ec/load_items/\" data-exchange-rate=\"1\" data-frame=\"on\" data-items=\"4\" data-lang=\"ja\" data-last-page=\"1\" data-transparent=\"\" data-view-layout=\"rectangle\" id=\"itemList\"> <li class=\"items-grid_itemListLI_5a0255a1\"> <a class=\"items-grid_anchor_5a0255a1 js-anchor\" href=\"https://scraping.official.ec/items/40792108\"> <div class=\"items-grid_container_5a0255a1\"> <div class=\"items-grid_imageContainer_5a0255a1\"> <div class=\"items-grid_imageOuter_5a0255a1\"> <div class=\"items-grid_imageInner_5a0255a1\"> <img class=\"items-grid_image_5a0255a1\" data-src1280=\"https://baseec-img-mng.akamaized.net/images/item/origin/8397aca82a4a0a64729cdd8d327145da.png?imformat=generic&amp;q=90&amp;im=Resize,width=1280,type=normal\" height=\"640\" loading=\"lazy\" src=\"https://baseec-img-mng.akamaized.net/images/item/origin/8397aca82a4a0a64729cdd8d327145da.png?imformat=generic&amp;q=90&amp;im=Resize,width=640,type=normal\" width=\"640\"/> </div> <div class=\"items-grid_infoContainer_5a0255a1\"> <div class=\"items-grid_infoHead_5a0255a1\"> <div class=\"items-grid_itemTitle_5a0255a1\"> <p class=\"items-grid_itemTitleText_5a0255a1\">プログラミング学習の相談</p> </div> <div class=\"items-grid_itemPrice_5a0255a1\"> <p class=\"items-grid_price_5a0255a1\">¥30,000</p> </div> <div class=\"items-grid_itemInfoLabels_5a0255a1\"> </div> </div> <div class=\"items-grid_itemDescription_5a0255a1\"> <p class=\"items-grid_itemDescriptionText_5a0255a1\">プログラミング学習に関する相談をお受けいたします。\n",
       "購入成立後、日程調整を行いZoom URLをお送りいたします。\n",
       "事前にお送りする質問にお答えいただいた上で、1時間の相談会を実施します。\n",
       "主に、何をどのように学んでいけばよいか迷っている方や、プログラミングに躓いて悩んでいる初学者におすすめです。</p> </div> </div> </div> </div> </div> </a> </li> <li class=\"items-grid_itemListLI_5a0255a1\"> <a class=\"items-grid_anchor_5a0255a1 js-anchor\" href=\"https://scraping.official.ec/items/40792153\"> <div class=\"items-grid_container_5a0255a1\"> <div class=\"items-grid_imageContainer_5a0255a1\"> <div class=\"items-grid_imageOuter_5a0255a1\"> <div class=\"items-grid_imageInner_5a0255a1\"> <img class=\"items-grid_image_5a0255a1\" data-src1280=\"https://baseec-img-mng.akamaized.net/images/item/origin/e493302a92e0de9625b588e0bb4bad6c.png?imformat=generic&amp;q=90&amp;im=Resize,width=1280,type=normal\" height=\"640\" loading=\"lazy\" src=\"https://baseec-img-mng.akamaized.net/images/item/origin/e493302a92e0de9625b588e0bb4bad6c.png?imformat=generic&amp;q=90&amp;im=Resize,width=640,type=normal\" width=\"640\"/> </div> <div class=\"items-grid_infoContainer_5a0255a1\"> <div class=\"items-grid_infoHead_5a0255a1\"> <div class=\"items-grid_itemTitle_5a0255a1\"> <p class=\"items-grid_itemTitleText_5a0255a1\">顧問 &amp; アドバイザリー</p> </div> <div class=\"items-grid_itemPrice_5a0255a1\"> <p class=\"items-grid_price_5a0255a1\">¥100,000</p> </div> <div class=\"items-grid_itemInfoLabels_5a0255a1\"> </div> </div> <div class=\"items-grid_itemDescription_5a0255a1\"> <p class=\"items-grid_itemDescriptionText_5a0255a1\">下記カテゴリにおける企業のアドバイザリーを担当します。\n",
       "\n",
       "・IT/DX化\n",
       "・教育\n",
       "・営業戦略\n",
       "・人事領域（採用、育成）\n",
       "\n",
       "現在とあるブロックチェーンベンチャー企業にて、教育フェローとして教育事業の方針設計から、それにおける採用計画、運用面の設計までのアドバイス、構想立案を行っています。</p> </div> </div> </div> </div> </div> </a> </li> <li class=\"items-grid_itemListLI_5a0255a1\"> <a class=\"items-grid_anchor_5a0255a1 js-anchor\" href=\"https://scraping.official.ec/items/40792284\"> <div class=\"items-grid_container_5a0255a1\"> <div class=\"items-grid_imageContainer_5a0255a1\"> <div class=\"items-grid_imageOuter_5a0255a1\"> <div class=\"items-grid_imageInner_5a0255a1\"> <img class=\"items-grid_image_5a0255a1\" data-src1280=\"https://baseec-img-mng.akamaized.net/images/item/origin/33afc89ae72e60f1031c64d713911105.png?imformat=generic&amp;q=90&amp;im=Resize,width=1280,type=normal\" height=\"640\" loading=\"lazy\" src=\"https://baseec-img-mng.akamaized.net/images/item/origin/33afc89ae72e60f1031c64d713911105.png?imformat=generic&amp;q=90&amp;im=Resize,width=640,type=normal\" width=\"640\"/> </div> <div class=\"items-grid_infoContainer_5a0255a1\"> <div class=\"items-grid_infoHead_5a0255a1\"> <div class=\"items-grid_itemTitle_5a0255a1\"> <p class=\"items-grid_itemTitleText_5a0255a1\">Udemy講座まとめ買いパック</p> </div> <div class=\"items-grid_itemPrice_5a0255a1\"> <p class=\"items-grid_price_5a0255a1\">¥8,000</p> </div> <div class=\"items-grid_itemInfoLabels_5a0255a1\"> </div> </div> <div class=\"items-grid_itemDescription_5a0255a1\"> <p class=\"items-grid_itemDescriptionText_5a0255a1\">私がUdemyで公開している下記講座4点セットを特別価格で販売いたします。\n",
       "\n",
       "・PythonによるWebスクレイピング〜入門編〜【業務効率化への第一歩】\n",
       "　※定価：15,600円\n",
       "・PythonによるWebスクレイピング 〜Webアプリケーション編〜\n",
       "　※定価：22,800円\n",
       "・ビジネスパーソンに贈る業務効率化大全 〜Google Apps Scriptによる業務の自動化〜\n",
       "　※定価：24,000円\n",
       "・プログラミングを業務で活かす！PythonによるWeb API活用講座\n",
       "　※定価：19,800円</p> </div> </div> </div> </div> </div> </a> </li> <li class=\"items-grid_itemListLI_5a0255a1\"> <a class=\"items-grid_anchor_5a0255a1 js-anchor\" href=\"https://scraping.official.ec/items/40792454\"> <div class=\"items-grid_container_5a0255a1\"> <div class=\"items-grid_imageContainer_5a0255a1\"> <div class=\"items-grid_imageOuter_5a0255a1\"> <div class=\"items-grid_imageInner_5a0255a1\"> <img class=\"items-grid_image_5a0255a1\" data-src1280=\"https://baseec-img-mng.akamaized.net/images/item/origin/ce284316ad624e6e791f8b3d3165f4bf.png?imformat=generic&amp;q=90&amp;im=Resize,width=1280,type=normal\" height=\"640\" loading=\"lazy\" src=\"https://baseec-img-mng.akamaized.net/images/item/origin/ce284316ad624e6e791f8b3d3165f4bf.png?imformat=generic&amp;q=90&amp;im=Resize,width=640,type=normal\" width=\"640\"/> </div> <div class=\"items-grid_infoContainer_5a0255a1\"> <div class=\"items-grid_infoHead_5a0255a1\"> <div class=\"items-grid_itemTitle_5a0255a1\"> <p class=\"items-grid_itemTitleText_5a0255a1\">YouTubeコンサルティング</p> </div> <div class=\"items-grid_itemPrice_5a0255a1\"> <p class=\"items-grid_price_5a0255a1\">¥15,000</p> </div> <div class=\"items-grid_itemInfoLabels_5a0255a1\"> <p class=\"items-grid_infoItem_5a0255a1 items-grid_status_5a0255a1 items-grid_soldOut_5a0255a1\">SOLD OUT</p> </div> </div> <div class=\"items-grid_itemDescription_5a0255a1\"> <p class=\"items-grid_itemDescriptionText_5a0255a1\">YouTubeチャンネル運営に関してのコンサルティングを行います。\n",
       "中々伸びずの状況が続いていた私のチャンネルですが、直近は月次5000人以上のペースで増加するまでになりました。\n",
       "\n",
       "試行錯誤の末、溜まってきたノウハウがあります。\n",
       "そのノウハウを元に、大枠の部分から細かな部分までアドバイスを行います。教育系チャンネルは得意領域です。\n",
       "\n",
       "※チャンネル登録者数は2万6千人（2021年3月現在）\n",
       "</p> </div> </div> </div> </div> </div> </a> </li> </ul>"
      ]
     },
     "execution_count": 22,
     "metadata": {},
     "output_type": "execute_result"
    }
   ],
   "source": [
    "item_list = soup.find('ul', {'id': 'itemList'})\n",
    "item_list"
   ]
  },
  {
   "cell_type": "code",
   "execution_count": 24,
   "metadata": {},
   "outputs": [
    {
     "data": {
      "text/plain": [
       "4"
      ]
     },
     "execution_count": 24,
     "metadata": {},
     "output_type": "execute_result"
    }
   ],
   "source": [
    "len(item_list.find_all('li'))"
   ]
  },
  {
   "cell_type": "code",
   "execution_count": 25,
   "metadata": {},
   "outputs": [],
   "source": [
    "items = item_list.find_all('li')"
   ]
  },
  {
   "cell_type": "code",
   "execution_count": 28,
   "metadata": {},
   "outputs": [
    {
     "data": {
      "text/plain": [
       "<li class=\"items-grid_itemListLI_5a0255a1\"> <a class=\"items-grid_anchor_5a0255a1 js-anchor\" href=\"https://scraping.official.ec/items/40792108\"> <div class=\"items-grid_container_5a0255a1\"> <div class=\"items-grid_imageContainer_5a0255a1\"> <div class=\"items-grid_imageOuter_5a0255a1\"> <div class=\"items-grid_imageInner_5a0255a1\"> <img class=\"items-grid_image_5a0255a1\" data-src1280=\"https://baseec-img-mng.akamaized.net/images/item/origin/8397aca82a4a0a64729cdd8d327145da.png?imformat=generic&amp;q=90&amp;im=Resize,width=1280,type=normal\" height=\"640\" loading=\"lazy\" src=\"https://baseec-img-mng.akamaized.net/images/item/origin/8397aca82a4a0a64729cdd8d327145da.png?imformat=generic&amp;q=90&amp;im=Resize,width=640,type=normal\" width=\"640\"/> </div> <div class=\"items-grid_infoContainer_5a0255a1\"> <div class=\"items-grid_infoHead_5a0255a1\"> <div class=\"items-grid_itemTitle_5a0255a1\"> <p class=\"items-grid_itemTitleText_5a0255a1\">プログラミング学習の相談</p> </div> <div class=\"items-grid_itemPrice_5a0255a1\"> <p class=\"items-grid_price_5a0255a1\">¥30,000</p> </div> <div class=\"items-grid_itemInfoLabels_5a0255a1\"> </div> </div> <div class=\"items-grid_itemDescription_5a0255a1\"> <p class=\"items-grid_itemDescriptionText_5a0255a1\">プログラミング学習に関する相談をお受けいたします。\n",
       "購入成立後、日程調整を行いZoom URLをお送りいたします。\n",
       "事前にお送りする質問にお答えいただいた上で、1時間の相談会を実施します。\n",
       "主に、何をどのように学んでいけばよいか迷っている方や、プログラミングに躓いて悩んでいる初学者におすすめです。</p> </div> </div> </div> </div> </div> </a> </li>"
      ]
     },
     "execution_count": 28,
     "metadata": {},
     "output_type": "execute_result"
    }
   ],
   "source": [
    "item = items[0]\n",
    "item"
   ]
  },
  {
   "cell_type": "code",
   "execution_count": 38,
   "metadata": {},
   "outputs": [
    {
     "data": {
      "text/plain": [
       "'プログラミング学習の相談'"
      ]
     },
     "execution_count": 38,
     "metadata": {},
     "output_type": "execute_result"
    }
   ],
   "source": [
    "title = item.find('p', {'class': 'items-grid_itemTitleText_5a0255a1'}).text\n",
    "title"
   ]
  },
  {
   "cell_type": "code",
   "execution_count": 48,
   "metadata": {},
   "outputs": [],
   "source": [
    "price = item.find('p', {'class': 'items-grid_price_5a0255a1'}).text"
   ]
  },
  {
   "cell_type": "code",
   "execution_count": 51,
   "metadata": {},
   "outputs": [],
   "source": [
    "price = int(price.replace('¥', '').replace(',', ''))"
   ]
  },
  {
   "cell_type": "code",
   "execution_count": 52,
   "metadata": {},
   "outputs": [
    {
     "data": {
      "text/plain": [
       "30000"
      ]
     },
     "execution_count": 52,
     "metadata": {},
     "output_type": "execute_result"
    }
   ],
   "source": [
    "price"
   ]
  },
  {
   "cell_type": "code",
   "execution_count": 54,
   "metadata": {},
   "outputs": [
    {
     "data": {
      "text/plain": [
       "1"
      ]
     },
     "execution_count": 54,
     "metadata": {},
     "output_type": "execute_result"
    }
   ],
   "source": [
    "len(item.find_all('a'))"
   ]
  },
  {
   "cell_type": "code",
   "execution_count": 57,
   "metadata": {},
   "outputs": [
    {
     "data": {
      "text/plain": [
       "'https://scraping.official.ec/items/40792108'"
      ]
     },
     "execution_count": 57,
     "metadata": {},
     "output_type": "execute_result"
    }
   ],
   "source": [
    "link = item.find('a')['href']"
   ]
  },
  {
   "cell_type": "code",
   "execution_count": 61,
   "metadata": {},
   "outputs": [
    {
     "data": {
      "text/plain": [
       "False"
      ]
     },
     "execution_count": 61,
     "metadata": {},
     "output_type": "execute_result"
    }
   ],
   "source": [
    "items[3].find('p', {'class': 'items-grid_soldOut_5a0255a1'}) == None"
   ]
  },
  {
   "cell_type": "code",
   "execution_count": 62,
   "metadata": {},
   "outputs": [
    {
     "data": {
      "text/plain": [
       "True"
      ]
     },
     "execution_count": 62,
     "metadata": {},
     "output_type": "execute_result"
    }
   ],
   "source": [
    "items[0].find('p', {'class': 'items-grid_soldOut_5a0255a1'}) == None"
   ]
  },
  {
   "cell_type": "code",
   "execution_count": 65,
   "metadata": {},
   "outputs": [],
   "source": [
    "is_stock = item.find('p', {'class': 'items-grid_soldOut_5a0255a1'}) == None"
   ]
  },
  {
   "cell_type": "code",
   "execution_count": 66,
   "metadata": {},
   "outputs": [
    {
     "data": {
      "text/plain": [
       "True"
      ]
     },
     "execution_count": 66,
     "metadata": {},
     "output_type": "execute_result"
    }
   ],
   "source": [
    "is_stock"
   ]
  },
  {
   "cell_type": "code",
   "execution_count": 68,
   "metadata": {},
   "outputs": [],
   "source": [
    "is_stock = '在庫あり' if is_stock == True else '在庫なし'"
   ]
  },
  {
   "cell_type": "code",
   "execution_count": 69,
   "metadata": {},
   "outputs": [
    {
     "data": {
      "text/plain": [
       "'在庫あり'"
      ]
     },
     "execution_count": 69,
     "metadata": {},
     "output_type": "execute_result"
    }
   ],
   "source": [
    "is_stock"
   ]
  },
  {
   "cell_type": "code",
   "execution_count": 70,
   "metadata": {},
   "outputs": [],
   "source": [
    "url_ec = \"https://scraping.official.ec\"\n",
    "res = requests.get(url_ec)\n",
    "soup = BeautifulSoup(res.text, 'html.parser')\n",
    "item_list = soup.find('ul', {'id': 'itemList'})\n",
    "items = item_list.find_all('li')\n",
    "\n",
    "data_ec = []\n",
    "for item in items:\n",
    "    datum_ec = {}\n",
    "    datum_ec['title'] = item.find('p', {'class': 'items-grid_itemTitleText_5a0255a1'}).text\n",
    "    price = item.find('p', {'class': 'items-grid_price_5a0255a1'}).text\n",
    "    datum_ec['price'] = int(price.replace('¥', '').replace(',', ''))\n",
    "    link = item.find('a')['href']\n",
    "    is_stock = item.find('p', {'class': 'items-grid_soldOut_5a0255a1'}) == None\n",
    "    datum_ec['is_stock'] = '在庫あり' if is_stock == True else '在庫なし'\n",
    "    data_ec.append(datum_ec)"
   ]
  },
  {
   "cell_type": "code",
   "execution_count": 71,
   "metadata": {},
   "outputs": [
    {
     "data": {
      "text/plain": [
       "[{'title': 'プログラミング学習の相談', 'price': 30000, 'is_stock': '在庫あり'},\n",
       " {'title': '顧問 & アドバイザリー', 'price': 100000, 'is_stock': '在庫あり'},\n",
       " {'title': 'Udemy講座まとめ買いパック', 'price': 8000, 'is_stock': '在庫あり'},\n",
       " {'title': 'YouTubeコンサルティング', 'price': 15000, 'is_stock': '在庫なし'}]"
      ]
     },
     "execution_count": 71,
     "metadata": {},
     "output_type": "execute_result"
    }
   ],
   "source": [
    "data_ec"
   ]
  },
  {
   "cell_type": "markdown",
   "metadata": {},
   "source": [
    "### Udemy"
   ]
  },
  {
   "cell_type": "code",
   "execution_count": 74,
   "metadata": {},
   "outputs": [],
   "source": [
    "def get_data_udemy():\n",
    "    url = \"https://scraping-for-beginner.herokuapp.com/udemy\"\n",
    "    res = requests.get(url)\n",
    "    soup = BeautifulSoup(res.text, 'html.parser')\n",
    "\n",
    "    n_subscriber = soup.find('p', {'class': 'subscribers'}).text\n",
    "    n_subscriber = int(n_subscriber.split('：')[1])\n",
    "\n",
    "    n_review = soup.find('p', {'class': 'reviews'}).text\n",
    "    n_review = int(n_review.split('：')[1])\n",
    "    return {\n",
    "        'n_subscriber': n_subscriber,\n",
    "        'n_review': n_review\n",
    "    }"
   ]
  },
  {
   "cell_type": "code",
   "execution_count": 75,
   "metadata": {},
   "outputs": [
    {
     "data": {
      "text/plain": [
       "{'n_subscriber': 16086, 'n_review': 2768}"
      ]
     },
     "execution_count": 75,
     "metadata": {},
     "output_type": "execute_result"
    }
   ],
   "source": [
    "get_data_udemy()"
   ]
  },
  {
   "cell_type": "code",
   "execution_count": null,
   "metadata": {},
   "outputs": [],
   "source": []
  },
  {
   "cell_type": "markdown",
   "metadata": {},
   "source": [
    "### EC"
   ]
  },
  {
   "cell_type": "code",
   "execution_count": 77,
   "metadata": {},
   "outputs": [],
   "source": [
    "import pandas as pd"
   ]
  },
  {
   "cell_type": "code",
   "execution_count": 78,
   "metadata": {},
   "outputs": [],
   "source": [
    "def get_data_ec():\n",
    "    url_ec = \"https://scraping.official.ec\"\n",
    "    res = requests.get(url_ec)\n",
    "    soup = BeautifulSoup(res.text, 'html.parser')\n",
    "    item_list = soup.find('ul', {'id': 'itemList'})\n",
    "    items = item_list.find_all('li')\n",
    "\n",
    "    data_ec = []\n",
    "    for item in items:\n",
    "        datum_ec = {}\n",
    "        datum_ec['title'] = item.find('p', {'class': 'items-grid_itemTitleText_5a0255a1'}).text\n",
    "        price = item.find('p', {'class': 'items-grid_price_5a0255a1'}).text\n",
    "        datum_ec['price'] = int(price.replace('¥', '').replace(',', ''))\n",
    "        link = item.find('a')['href']\n",
    "        is_stock = item.find('p', {'class': 'items-grid_soldOut_5a0255a1'}) == None\n",
    "        datum_ec['is_stock'] = '在庫あり' if is_stock == True else '在庫なし'\n",
    "        data_ec.append(datum_ec)\n",
    "        \n",
    "    df_ec = pd.DataFrame(data_ec)\n",
    "    return df_ec"
   ]
  },
  {
   "cell_type": "code",
   "execution_count": 79,
   "metadata": {},
   "outputs": [
    {
     "data": {
      "text/html": [
       "<div>\n",
       "<style scoped>\n",
       "    .dataframe tbody tr th:only-of-type {\n",
       "        vertical-align: middle;\n",
       "    }\n",
       "\n",
       "    .dataframe tbody tr th {\n",
       "        vertical-align: top;\n",
       "    }\n",
       "\n",
       "    .dataframe thead th {\n",
       "        text-align: right;\n",
       "    }\n",
       "</style>\n",
       "<table border=\"1\" class=\"dataframe\">\n",
       "  <thead>\n",
       "    <tr style=\"text-align: right;\">\n",
       "      <th></th>\n",
       "      <th>title</th>\n",
       "      <th>price</th>\n",
       "      <th>is_stock</th>\n",
       "    </tr>\n",
       "  </thead>\n",
       "  <tbody>\n",
       "    <tr>\n",
       "      <th>0</th>\n",
       "      <td>プログラミング学習の相談</td>\n",
       "      <td>30000</td>\n",
       "      <td>在庫あり</td>\n",
       "    </tr>\n",
       "    <tr>\n",
       "      <th>1</th>\n",
       "      <td>顧問 &amp; アドバイザリー</td>\n",
       "      <td>100000</td>\n",
       "      <td>在庫あり</td>\n",
       "    </tr>\n",
       "    <tr>\n",
       "      <th>2</th>\n",
       "      <td>Udemy講座まとめ買いパック</td>\n",
       "      <td>8000</td>\n",
       "      <td>在庫あり</td>\n",
       "    </tr>\n",
       "    <tr>\n",
       "      <th>3</th>\n",
       "      <td>YouTubeコンサルティング</td>\n",
       "      <td>15000</td>\n",
       "      <td>在庫なし</td>\n",
       "    </tr>\n",
       "  </tbody>\n",
       "</table>\n",
       "</div>"
      ],
      "text/plain": [
       "             title   price is_stock\n",
       "0     プログラミング学習の相談   30000     在庫あり\n",
       "1     顧問 & アドバイザリー  100000     在庫あり\n",
       "2  Udemy講座まとめ買いパック    8000     在庫あり\n",
       "3  YouTubeコンサルティング   15000     在庫なし"
      ]
     },
     "execution_count": 79,
     "metadata": {},
     "output_type": "execute_result"
    }
   ],
   "source": [
    "get_data_ec()"
   ]
  },
  {
   "cell_type": "code",
   "execution_count": 80,
   "metadata": {
    "collapsed": true,
    "jupyter": {
     "outputs_hidden": true
    }
   },
   "outputs": [
    {
     "name": "stdout",
     "output_type": "stream",
     "text": [
      "Collecting gspread\n",
      "  Downloading gspread-5.3.2-py3-none-any.whl (34 kB)\n",
      "Collecting google-auth-oauthlib>=0.4.1\n",
      "  Downloading google_auth_oauthlib-0.5.1-py2.py3-none-any.whl (19 kB)\n",
      "Requirement already satisfied: google-auth>=1.12.0 in /Users/missasan/opt/anaconda3/lib/python3.8/site-packages (from gspread) (2.6.2)\n",
      "Requirement already satisfied: requests-oauthlib>=0.7.0 in /Users/missasan/opt/anaconda3/lib/python3.8/site-packages (from google-auth-oauthlib>=0.4.1->gspread) (1.3.1)\n",
      "Requirement already satisfied: rsa<5,>=3.1.4; python_version >= \"3.6\" in /Users/missasan/opt/anaconda3/lib/python3.8/site-packages (from google-auth>=1.12.0->gspread) (4.8)\n",
      "Requirement already satisfied: six>=1.9.0 in /Users/missasan/opt/anaconda3/lib/python3.8/site-packages (from google-auth>=1.12.0->gspread) (1.15.0)\n",
      "Requirement already satisfied: pyasn1-modules>=0.2.1 in /Users/missasan/opt/anaconda3/lib/python3.8/site-packages (from google-auth>=1.12.0->gspread) (0.2.8)\n",
      "Requirement already satisfied: cachetools<6.0,>=2.0.0 in /Users/missasan/opt/anaconda3/lib/python3.8/site-packages (from google-auth>=1.12.0->gspread) (5.0.0)\n",
      "Requirement already satisfied: requests>=2.0.0 in /Users/missasan/opt/anaconda3/lib/python3.8/site-packages (from requests-oauthlib>=0.7.0->google-auth-oauthlib>=0.4.1->gspread) (2.27.1)\n",
      "Requirement already satisfied: oauthlib>=3.0.0 in /Users/missasan/opt/anaconda3/lib/python3.8/site-packages (from requests-oauthlib>=0.7.0->google-auth-oauthlib>=0.4.1->gspread) (3.2.0)\n",
      "Requirement already satisfied: pyasn1>=0.1.3 in /Users/missasan/opt/anaconda3/lib/python3.8/site-packages (from rsa<5,>=3.1.4; python_version >= \"3.6\"->google-auth>=1.12.0->gspread) (0.4.8)\n",
      "Requirement already satisfied: certifi>=2017.4.17 in /Users/missasan/opt/anaconda3/lib/python3.8/site-packages (from requests>=2.0.0->requests-oauthlib>=0.7.0->google-auth-oauthlib>=0.4.1->gspread) (2020.6.20)\n",
      "Requirement already satisfied: charset-normalizer~=2.0.0; python_version >= \"3\" in /Users/missasan/opt/anaconda3/lib/python3.8/site-packages (from requests>=2.0.0->requests-oauthlib>=0.7.0->google-auth-oauthlib>=0.4.1->gspread) (2.0.12)\n",
      "Requirement already satisfied: idna<4,>=2.5; python_version >= \"3\" in /Users/missasan/opt/anaconda3/lib/python3.8/site-packages (from requests>=2.0.0->requests-oauthlib>=0.7.0->google-auth-oauthlib>=0.4.1->gspread) (2.10)\n",
      "Requirement already satisfied: urllib3<1.27,>=1.21.1 in /Users/missasan/opt/anaconda3/lib/python3.8/site-packages (from requests>=2.0.0->requests-oauthlib>=0.7.0->google-auth-oauthlib>=0.4.1->gspread) (1.25.11)\n",
      "Installing collected packages: google-auth-oauthlib, gspread\n",
      "Successfully installed google-auth-oauthlib-0.5.1 gspread-5.3.2\n",
      "Collecting google\n",
      "  Downloading google-3.0.0-py2.py3-none-any.whl (45 kB)\n",
      "\u001b[K     |████████████████████████████████| 45 kB 2.2 MB/s eta 0:00:011\n",
      "\u001b[?25hRequirement already satisfied: beautifulsoup4 in /Users/missasan/opt/anaconda3/lib/python3.8/site-packages (from google) (4.9.3)\n",
      "Requirement already satisfied: soupsieve>1.2; python_version >= \"3.0\" in /Users/missasan/opt/anaconda3/lib/python3.8/site-packages (from beautifulsoup4->google) (2.0.1)\n",
      "Installing collected packages: google\n",
      "Successfully installed google-3.0.0\n"
     ]
    }
   ],
   "source": [
    "!pip3 install gspread\n",
    "!pip3 install google"
   ]
  },
  {
   "cell_type": "code",
   "execution_count": 82,
   "metadata": {},
   "outputs": [],
   "source": [
    "import gspread\n",
    "from google.oauth2.service_account import Credentials\n",
    "\n",
    "scopes = [\n",
    "    'https://www.googleapis.com/auth/spreadsheets',\n",
    "    'https://www.googleapis.com/auth/drive'\n",
    "]\n",
    "\n",
    "credentials = Credentials.from_service_account_file(\n",
    "    'service_account.json',\n",
    "    scopes=scopes\n",
    ")\n",
    "\n",
    "gc = gspread.authorize(credentials)"
   ]
  },
  {
   "cell_type": "code",
   "execution_count": 83,
   "metadata": {},
   "outputs": [
    {
     "data": {
      "text/plain": [
       "<gspread.client.Client at 0x7fcff006ffd0>"
      ]
     },
     "execution_count": 83,
     "metadata": {},
     "output_type": "execute_result"
    }
   ],
   "source": [
    "gc"
   ]
  },
  {
   "cell_type": "code",
   "execution_count": null,
   "metadata": {},
   "outputs": [],
   "source": []
  }
 ],
 "metadata": {
  "kernelspec": {
   "display_name": "Python 3",
   "language": "python",
   "name": "python3"
  },
  "language_info": {
   "codemirror_mode": {
    "name": "ipython",
    "version": 3
   },
   "file_extension": ".py",
   "mimetype": "text/x-python",
   "name": "python",
   "nbconvert_exporter": "python",
   "pygments_lexer": "ipython3",
   "version": "3.8.5"
  }
 },
 "nbformat": 4,
 "nbformat_minor": 4
}
